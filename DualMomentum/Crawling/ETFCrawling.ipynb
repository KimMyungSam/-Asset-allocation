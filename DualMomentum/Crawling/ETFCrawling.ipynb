{
 "cells": [
  {
   "cell_type": "markdown",
   "metadata": {},
   "source": [
    "### KODEX, BOND10, BOND3 ETF 일별 데이타 크롤링"
   ]
  },
  {
   "cell_type": "code",
   "execution_count": 1,
   "metadata": {},
   "outputs": [],
   "source": [
    "import pandas as pd\n",
    "import numpy as np\n",
    "from datetime import timedelta, datetime\n",
    "import FinanceDataReader  as fdr"
   ]
  },
  {
   "cell_type": "markdown",
   "metadata": {},
   "source": [
    "### 현재 Data 수집일 확인하기"
   ]
  },
  {
   "cell_type": "code",
   "execution_count": 2,
   "metadata": {
    "scrolled": false
   },
   "outputs": [],
   "source": [
    "# KODEX200 크롤링 하기\n",
    "try:\n",
    "    df_kodex = pd.read_csv(\"..\\\\Data\\\\KODEX200_data.csv\", sep=\",\", engine=\"python\", encoding=\"utf-8\")\n",
    "    df_kodex.index = pd.to_datetime(df_kodex[\"Date\"])\n",
    "    df_kodex = df_kodex.drop(['Date'], axis=1)\n",
    "    last_day = df_kodex.index[-1]  # 크롤링된 마지막 날짜 구하기\n",
    "    get_day = last_day + timedelta(1)  # 마지막날짜에 +1 day\n",
    "    get_day = get_day.strftime(\"%Y-%m-%d\")  # 지정된 날자를 포함하여 데이터 크롤링\n",
    "    df_update = fdr.DataReader(\"069500\",get_day)\n",
    "    if len(df_update) > 0:  # new 데이타가 있으면\n",
    "        df_kodex = pd.concat([df_kodex,df_update],axis=0, sort=True)\n",
    "except FileNotFoundError:\n",
    "    df_kodex = fdr.DataReader(\"069500\")  # KODEX200 069500 \n",
    "# 중복색인 삭제, 색인 중복 error 제거\n",
    "df_kodex = df_kodex[~df_kodex.index.duplicated(keep='first')]\n",
    "#csv 파일로 저장\n",
    "df_kodex.to_csv(\"..\\\\Data\\\\KODEX200_data.csv\",sep=\",\",encoding=\"utf-8\")"
   ]
  },
  {
   "cell_type": "code",
   "execution_count": 3,
   "metadata": {},
   "outputs": [],
   "source": [
    "# 국고채10년 크롤링 하기\n",
    "try:\n",
    "    df_bond10 = pd.read_csv(\"..\\\\Data\\\\KOSEF국고채10년_data.csv\",sep=\",\", engine=\"python\", encoding=\"utf-8\")\n",
    "    df_bond10.index = pd.to_datetime(df_bond10[\"Date\"])\n",
    "    df_bond10 = df_bond10.drop(['Date'], axis=1)\n",
    "    last_day = df_bond10.index[-1]  # 크롤링된 마지막 날짜 구하기\n",
    "    get_day = last_day + timedelta(1)  # 마지막날짜에 +1 day\n",
    "    get_day = get_day.strftime(\"%Y-%m-%d\")  # 지정된 날자를 포함하여 데이터 크롤링\n",
    "\n",
    "    df_update = fdr.DataReader(\"148070\",get_day)\n",
    "    if len(df_update) > 0:  # new 데이타가 있으면\n",
    "        df_kodex = pd.concat([df_kodex,df_update],axis=0, sort=True)\n",
    "except FileNotFoundError:\n",
    "    df_bond10 = fdr.DataReader(\"148070\")  # KOSEF 국고채10년\n",
    "# 중복색인 삭제, 색인 중복 error 제거\n",
    "df_bond10 = df_bond10[~df_bond10.index.duplicated(keep='first')]\n",
    "# csv 파일로 저장\n",
    "df_bond10.to_csv(\"..\\\\Data\\\\KOSEF국고채10년_data.csv\",sep=\",\",encoding=\"utf-8\")"
   ]
  },
  {
   "cell_type": "code",
   "execution_count": 4,
   "metadata": {},
   "outputs": [],
   "source": [
    "# 국고채3년 크롤링 하기\n",
    "try:\n",
    "    df_bond3 = pd.read_csv(\"..\\\\Data\\\\KOSEF국고채3년_data.csv\",sep=\",\", engine=\"python\", encoding=\"utf-8\")\n",
    "    df_bond3.index = pd.to_datetime(df_bond3[\"Date\"])\n",
    "    df_bond3 = df_bond3.drop(['Date'], axis=1)\n",
    "    last_day = df_bond3.index[-1]  # 크롤링된 마지막 날짜 구하기\n",
    "    get_day = last_day + timedelta(1)  # 마지막날짜에 +1 day\n",
    "    get_day = get_day.strftime(\"%Y-%m-%d\")  # 지정된 날자를 포함하여 데이터 크롤링\n",
    "\n",
    "    df_update = fdr.DataReader(\"114470\",get_day)\n",
    "    if len(df_update) > 0:  # new 데이타가 있으면\n",
    "        df_kodex = pd.concat([df_kodex,df_update],axis=0, sort=True)\n",
    "except FileNotFoundError:\n",
    "    df_bond3 = fdr.DataReader(\"114470\")  # KOSEF 국고채3년\n",
    "# 중복색인 삭제, 색인 중복 error 제거\n",
    "df_bond3 = df_bond3[~df_bond3.index.duplicated(keep='first')]\n",
    "# csv 파일로 저장\n",
    "df_bond3.to_csv(\"..\\\\Data\\\\KOSEF국고채3년_data.csv\",sep=\",\",encoding=\"utf-8\")"
   ]
  }
 ],
 "metadata": {
  "kernelspec": {
   "display_name": "Python 3",
   "language": "python",
   "name": "python3"
  },
  "language_info": {
   "codemirror_mode": {
    "name": "ipython",
    "version": 3
   },
   "file_extension": ".py",
   "mimetype": "text/x-python",
   "name": "python",
   "nbconvert_exporter": "python",
   "pygments_lexer": "ipython3",
   "version": "3.6.4"
  }
 },
 "nbformat": 4,
 "nbformat_minor": 2
}
