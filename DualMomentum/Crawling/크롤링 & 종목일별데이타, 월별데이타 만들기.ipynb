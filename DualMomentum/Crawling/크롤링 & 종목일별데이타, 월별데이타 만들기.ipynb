{
 "cells": [
  {
   "cell_type": "code",
   "execution_count": 1,
   "metadata": {},
   "outputs": [],
   "source": [
    "import pandas as pd\n",
    "import numpy as np\n",
    "import FinanceDataReader  as fdr"
   ]
  },
  {
   "cell_type": "code",
   "execution_count": 2,
   "metadata": {},
   "outputs": [],
   "source": [
    "# https://financedata.github.io/posts/finance-data-reader-users-guide.html"
   ]
  },
  {
   "cell_type": "markdown",
   "metadata": {},
   "source": [
    "### 종목데이터 읽어오기"
   ]
  },
  {
   "cell_type": "code",
   "execution_count": 3,
   "metadata": {},
   "outputs": [],
   "source": [
    "df = fdr.DataReader(\"148070\")  # 114260"
   ]
  },
  {
   "cell_type": "code",
   "execution_count": 4,
   "metadata": {},
   "outputs": [
    {
     "data": {
      "text/html": [
       "<div>\n",
       "<style scoped>\n",
       "    .dataframe tbody tr th:only-of-type {\n",
       "        vertical-align: middle;\n",
       "    }\n",
       "\n",
       "    .dataframe tbody tr th {\n",
       "        vertical-align: top;\n",
       "    }\n",
       "\n",
       "    .dataframe thead th {\n",
       "        text-align: right;\n",
       "    }\n",
       "</style>\n",
       "<table border=\"1\" class=\"dataframe\">\n",
       "  <thead>\n",
       "    <tr style=\"text-align: right;\">\n",
       "      <th></th>\n",
       "      <th>Open</th>\n",
       "      <th>High</th>\n",
       "      <th>Low</th>\n",
       "      <th>Close</th>\n",
       "      <th>Volume</th>\n",
       "      <th>Change</th>\n",
       "    </tr>\n",
       "    <tr>\n",
       "      <th>Date</th>\n",
       "      <th></th>\n",
       "      <th></th>\n",
       "      <th></th>\n",
       "      <th></th>\n",
       "      <th></th>\n",
       "      <th></th>\n",
       "    </tr>\n",
       "  </thead>\n",
       "  <tbody>\n",
       "    <tr>\n",
       "      <th>2019-02-27</th>\n",
       "      <td>121400</td>\n",
       "      <td>121400</td>\n",
       "      <td>121275</td>\n",
       "      <td>121335</td>\n",
       "      <td>45314</td>\n",
       "      <td>0.001734</td>\n",
       "    </tr>\n",
       "    <tr>\n",
       "      <th>2019-02-28</th>\n",
       "      <td>121295</td>\n",
       "      <td>121395</td>\n",
       "      <td>121185</td>\n",
       "      <td>121395</td>\n",
       "      <td>1017</td>\n",
       "      <td>0.000494</td>\n",
       "    </tr>\n",
       "    <tr>\n",
       "      <th>2019-03-04</th>\n",
       "      <td>121400</td>\n",
       "      <td>121400</td>\n",
       "      <td>120980</td>\n",
       "      <td>121020</td>\n",
       "      <td>1729</td>\n",
       "      <td>-0.003089</td>\n",
       "    </tr>\n",
       "    <tr>\n",
       "      <th>2019-03-05</th>\n",
       "      <td>121045</td>\n",
       "      <td>121130</td>\n",
       "      <td>120980</td>\n",
       "      <td>120980</td>\n",
       "      <td>8529</td>\n",
       "      <td>-0.000331</td>\n",
       "    </tr>\n",
       "    <tr>\n",
       "      <th>2019-03-06</th>\n",
       "      <td>121040</td>\n",
       "      <td>121090</td>\n",
       "      <td>121010</td>\n",
       "      <td>121090</td>\n",
       "      <td>371</td>\n",
       "      <td>0.000909</td>\n",
       "    </tr>\n",
       "  </tbody>\n",
       "</table>\n",
       "</div>"
      ],
      "text/plain": [
       "              Open    High     Low   Close  Volume    Change\n",
       "Date                                                        \n",
       "2019-02-27  121400  121400  121275  121335   45314  0.001734\n",
       "2019-02-28  121295  121395  121185  121395    1017  0.000494\n",
       "2019-03-04  121400  121400  120980  121020    1729 -0.003089\n",
       "2019-03-05  121045  121130  120980  120980    8529 -0.000331\n",
       "2019-03-06  121040  121090  121010  121090     371  0.000909"
      ]
     },
     "execution_count": 4,
     "metadata": {},
     "output_type": "execute_result"
    }
   ],
   "source": [
    "df.tail()"
   ]
  },
  {
   "cell_type": "code",
   "execution_count": 5,
   "metadata": {},
   "outputs": [
    {
     "data": {
      "text/html": [
       "<div>\n",
       "<style scoped>\n",
       "    .dataframe tbody tr th:only-of-type {\n",
       "        vertical-align: middle;\n",
       "    }\n",
       "\n",
       "    .dataframe tbody tr th {\n",
       "        vertical-align: top;\n",
       "    }\n",
       "\n",
       "    .dataframe thead th {\n",
       "        text-align: right;\n",
       "    }\n",
       "</style>\n",
       "<table border=\"1\" class=\"dataframe\">\n",
       "  <thead>\n",
       "    <tr style=\"text-align: right;\">\n",
       "      <th></th>\n",
       "      <th>Open</th>\n",
       "      <th>High</th>\n",
       "      <th>Low</th>\n",
       "      <th>Close</th>\n",
       "      <th>Volume</th>\n",
       "      <th>Change</th>\n",
       "    </tr>\n",
       "    <tr>\n",
       "      <th>Date</th>\n",
       "      <th></th>\n",
       "      <th></th>\n",
       "      <th></th>\n",
       "      <th></th>\n",
       "      <th></th>\n",
       "      <th></th>\n",
       "    </tr>\n",
       "  </thead>\n",
       "  <tbody>\n",
       "    <tr>\n",
       "      <th>2011-10-20</th>\n",
       "      <td>87372</td>\n",
       "      <td>87486</td>\n",
       "      <td>87347</td>\n",
       "      <td>87439</td>\n",
       "      <td>43093</td>\n",
       "      <td>NaN</td>\n",
       "    </tr>\n",
       "    <tr>\n",
       "      <th>2011-10-21</th>\n",
       "      <td>87299</td>\n",
       "      <td>87356</td>\n",
       "      <td>86905</td>\n",
       "      <td>87051</td>\n",
       "      <td>4286</td>\n",
       "      <td>-0.004437</td>\n",
       "    </tr>\n",
       "    <tr>\n",
       "      <th>2011-10-24</th>\n",
       "      <td>87075</td>\n",
       "      <td>87075</td>\n",
       "      <td>86717</td>\n",
       "      <td>86750</td>\n",
       "      <td>4303</td>\n",
       "      <td>-0.003458</td>\n",
       "    </tr>\n",
       "    <tr>\n",
       "      <th>2011-10-25</th>\n",
       "      <td>86878</td>\n",
       "      <td>87001</td>\n",
       "      <td>86831</td>\n",
       "      <td>86921</td>\n",
       "      <td>1186</td>\n",
       "      <td>0.001971</td>\n",
       "    </tr>\n",
       "    <tr>\n",
       "      <th>2011-10-26</th>\n",
       "      <td>86862</td>\n",
       "      <td>87062</td>\n",
       "      <td>86774</td>\n",
       "      <td>87047</td>\n",
       "      <td>17543</td>\n",
       "      <td>0.001450</td>\n",
       "    </tr>\n",
       "  </tbody>\n",
       "</table>\n",
       "</div>"
      ],
      "text/plain": [
       "             Open   High    Low  Close  Volume    Change\n",
       "Date                                                    \n",
       "2011-10-20  87372  87486  87347  87439   43093       NaN\n",
       "2011-10-21  87299  87356  86905  87051    4286 -0.004437\n",
       "2011-10-24  87075  87075  86717  86750    4303 -0.003458\n",
       "2011-10-25  86878  87001  86831  86921    1186  0.001971\n",
       "2011-10-26  86862  87062  86774  87047   17543  0.001450"
      ]
     },
     "execution_count": 5,
     "metadata": {},
     "output_type": "execute_result"
    }
   ],
   "source": [
    "df.head()"
   ]
  },
  {
   "cell_type": "markdown",
   "metadata": {},
   "source": [
    "### csv 파일로 저장하기"
   ]
  },
  {
   "cell_type": "code",
   "execution_count": 6,
   "metadata": {},
   "outputs": [],
   "source": [
    "df.to_csv(\"KOSEF국고채10년_daily_data.csv\",sep=\",\",encoding=\"utf-8\")"
   ]
  },
  {
   "cell_type": "markdown",
   "metadata": {},
   "source": [
    "### 마지막 영업일로 월별데이타 만들기"
   ]
  },
  {
   "cell_type": "code",
   "execution_count": 7,
   "metadata": {},
   "outputs": [],
   "source": [
    "bm = df.resample(\"BM\").last()"
   ]
  },
  {
   "cell_type": "code",
   "execution_count": 8,
   "metadata": {},
   "outputs": [
    {
     "data": {
      "text/html": [
       "<div>\n",
       "<style scoped>\n",
       "    .dataframe tbody tr th:only-of-type {\n",
       "        vertical-align: middle;\n",
       "    }\n",
       "\n",
       "    .dataframe tbody tr th {\n",
       "        vertical-align: top;\n",
       "    }\n",
       "\n",
       "    .dataframe thead th {\n",
       "        text-align: right;\n",
       "    }\n",
       "</style>\n",
       "<table border=\"1\" class=\"dataframe\">\n",
       "  <thead>\n",
       "    <tr style=\"text-align: right;\">\n",
       "      <th></th>\n",
       "      <th>Open</th>\n",
       "      <th>High</th>\n",
       "      <th>Low</th>\n",
       "      <th>Close</th>\n",
       "      <th>Volume</th>\n",
       "      <th>Change</th>\n",
       "    </tr>\n",
       "    <tr>\n",
       "      <th>Date</th>\n",
       "      <th></th>\n",
       "      <th></th>\n",
       "      <th></th>\n",
       "      <th></th>\n",
       "      <th></th>\n",
       "      <th></th>\n",
       "    </tr>\n",
       "  </thead>\n",
       "  <tbody>\n",
       "    <tr>\n",
       "      <th>2018-11-30</th>\n",
       "      <td>119738</td>\n",
       "      <td>120032</td>\n",
       "      <td>119660</td>\n",
       "      <td>119837</td>\n",
       "      <td>2036</td>\n",
       "      <td>0.001479</td>\n",
       "    </tr>\n",
       "    <tr>\n",
       "      <th>2018-12-31</th>\n",
       "      <td>121435</td>\n",
       "      <td>121455</td>\n",
       "      <td>121325</td>\n",
       "      <td>121370</td>\n",
       "      <td>4390</td>\n",
       "      <td>-0.000124</td>\n",
       "    </tr>\n",
       "    <tr>\n",
       "      <th>2019-01-31</th>\n",
       "      <td>120845</td>\n",
       "      <td>120980</td>\n",
       "      <td>120700</td>\n",
       "      <td>120840</td>\n",
       "      <td>5141</td>\n",
       "      <td>0.002447</td>\n",
       "    </tr>\n",
       "    <tr>\n",
       "      <th>2019-02-28</th>\n",
       "      <td>121295</td>\n",
       "      <td>121395</td>\n",
       "      <td>121185</td>\n",
       "      <td>121395</td>\n",
       "      <td>1017</td>\n",
       "      <td>0.000494</td>\n",
       "    </tr>\n",
       "    <tr>\n",
       "      <th>2019-03-29</th>\n",
       "      <td>121040</td>\n",
       "      <td>121090</td>\n",
       "      <td>121010</td>\n",
       "      <td>121090</td>\n",
       "      <td>371</td>\n",
       "      <td>0.000909</td>\n",
       "    </tr>\n",
       "  </tbody>\n",
       "</table>\n",
       "</div>"
      ],
      "text/plain": [
       "              Open    High     Low   Close  Volume    Change\n",
       "Date                                                        \n",
       "2018-11-30  119738  120032  119660  119837    2036  0.001479\n",
       "2018-12-31  121435  121455  121325  121370    4390 -0.000124\n",
       "2019-01-31  120845  120980  120700  120840    5141  0.002447\n",
       "2019-02-28  121295  121395  121185  121395    1017  0.000494\n",
       "2019-03-29  121040  121090  121010  121090     371  0.000909"
      ]
     },
     "execution_count": 8,
     "metadata": {},
     "output_type": "execute_result"
    }
   ],
   "source": [
    "bm.tail()"
   ]
  },
  {
   "cell_type": "code",
   "execution_count": 9,
   "metadata": {},
   "outputs": [],
   "source": [
    "bm.to_csv(\"KOSEF국고채10년_monthly_data.csv\", sep=\",\",encoding=\"utf-8\")"
   ]
  },
  {
   "cell_type": "code",
   "execution_count": null,
   "metadata": {},
   "outputs": [],
   "source": []
  }
 ],
 "metadata": {
  "kernelspec": {
   "display_name": "Python 3",
   "language": "python",
   "name": "python3"
  },
  "language_info": {
   "codemirror_mode": {
    "name": "ipython",
    "version": 3
   },
   "file_extension": ".py",
   "mimetype": "text/x-python",
   "name": "python",
   "nbconvert_exporter": "python",
   "pygments_lexer": "ipython3",
   "version": "3.6.4"
  }
 },
 "nbformat": 4,
 "nbformat_minor": 2
}
