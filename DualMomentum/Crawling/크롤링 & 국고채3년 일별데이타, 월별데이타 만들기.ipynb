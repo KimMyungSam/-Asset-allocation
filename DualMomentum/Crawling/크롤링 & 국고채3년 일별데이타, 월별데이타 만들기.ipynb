{
 "cells": [
  {
   "cell_type": "code",
   "execution_count": 1,
   "metadata": {},
   "outputs": [],
   "source": [
    "import pandas as pd\n",
    "import numpy as np\n",
    "import FinanceDataReader  as fdr"
   ]
  },
  {
   "cell_type": "code",
   "execution_count": 2,
   "metadata": {},
   "outputs": [],
   "source": [
    "# https://financedata.github.io/posts/finance-data-reader-users-guide.html"
   ]
  },
  {
   "cell_type": "markdown",
   "metadata": {},
   "source": [
    "### 종목데이터 읽어오기"
   ]
  },
  {
   "cell_type": "code",
   "execution_count": 3,
   "metadata": {},
   "outputs": [],
   "source": [
    "df = fdr.DataReader(\"114470\")  # 국고채3년"
   ]
  },
  {
   "cell_type": "code",
   "execution_count": 4,
   "metadata": {},
   "outputs": [
    {
     "data": {
      "text/html": [
       "<div>\n",
       "<style scoped>\n",
       "    .dataframe tbody tr th:only-of-type {\n",
       "        vertical-align: middle;\n",
       "    }\n",
       "\n",
       "    .dataframe tbody tr th {\n",
       "        vertical-align: top;\n",
       "    }\n",
       "\n",
       "    .dataframe thead th {\n",
       "        text-align: right;\n",
       "    }\n",
       "</style>\n",
       "<table border=\"1\" class=\"dataframe\">\n",
       "  <thead>\n",
       "    <tr style=\"text-align: right;\">\n",
       "      <th></th>\n",
       "      <th>Open</th>\n",
       "      <th>High</th>\n",
       "      <th>Low</th>\n",
       "      <th>Close</th>\n",
       "      <th>Volume</th>\n",
       "      <th>Change</th>\n",
       "    </tr>\n",
       "    <tr>\n",
       "      <th>Date</th>\n",
       "      <th></th>\n",
       "      <th></th>\n",
       "      <th></th>\n",
       "      <th></th>\n",
       "      <th></th>\n",
       "      <th></th>\n",
       "    </tr>\n",
       "  </thead>\n",
       "  <tbody>\n",
       "    <tr>\n",
       "      <th>2019-03-18</th>\n",
       "      <td>111020</td>\n",
       "      <td>111030</td>\n",
       "      <td>110975</td>\n",
       "      <td>110980</td>\n",
       "      <td>29938</td>\n",
       "      <td>-0.000360</td>\n",
       "    </tr>\n",
       "    <tr>\n",
       "      <th>2019-03-19</th>\n",
       "      <td>110975</td>\n",
       "      <td>110980</td>\n",
       "      <td>110940</td>\n",
       "      <td>110980</td>\n",
       "      <td>32879</td>\n",
       "      <td>0.000000</td>\n",
       "    </tr>\n",
       "    <tr>\n",
       "      <th>2019-03-20</th>\n",
       "      <td>110980</td>\n",
       "      <td>110985</td>\n",
       "      <td>110970</td>\n",
       "      <td>110980</td>\n",
       "      <td>29379</td>\n",
       "      <td>0.000000</td>\n",
       "    </tr>\n",
       "    <tr>\n",
       "      <th>2019-03-21</th>\n",
       "      <td>110970</td>\n",
       "      <td>111085</td>\n",
       "      <td>110970</td>\n",
       "      <td>111080</td>\n",
       "      <td>39028</td>\n",
       "      <td>0.000901</td>\n",
       "    </tr>\n",
       "    <tr>\n",
       "      <th>2019-03-22</th>\n",
       "      <td>111060</td>\n",
       "      <td>111070</td>\n",
       "      <td>111020</td>\n",
       "      <td>111060</td>\n",
       "      <td>31674</td>\n",
       "      <td>-0.000180</td>\n",
       "    </tr>\n",
       "  </tbody>\n",
       "</table>\n",
       "</div>"
      ],
      "text/plain": [
       "              Open    High     Low   Close  Volume    Change\n",
       "Date                                                        \n",
       "2019-03-18  111020  111030  110975  110980   29938 -0.000360\n",
       "2019-03-19  110975  110980  110940  110980   32879  0.000000\n",
       "2019-03-20  110980  110985  110970  110980   29379  0.000000\n",
       "2019-03-21  110970  111085  110970  111080   39028  0.000901\n",
       "2019-03-22  111060  111070  111020  111060   31674 -0.000180"
      ]
     },
     "execution_count": 4,
     "metadata": {},
     "output_type": "execute_result"
    }
   ],
   "source": [
    "df.tail()"
   ]
  },
  {
   "cell_type": "code",
   "execution_count": 5,
   "metadata": {},
   "outputs": [
    {
     "data": {
      "text/html": [
       "<div>\n",
       "<style scoped>\n",
       "    .dataframe tbody tr th:only-of-type {\n",
       "        vertical-align: middle;\n",
       "    }\n",
       "\n",
       "    .dataframe tbody tr th {\n",
       "        vertical-align: top;\n",
       "    }\n",
       "\n",
       "    .dataframe thead th {\n",
       "        text-align: right;\n",
       "    }\n",
       "</style>\n",
       "<table border=\"1\" class=\"dataframe\">\n",
       "  <thead>\n",
       "    <tr style=\"text-align: right;\">\n",
       "      <th></th>\n",
       "      <th>Open</th>\n",
       "      <th>High</th>\n",
       "      <th>Low</th>\n",
       "      <th>Close</th>\n",
       "      <th>Volume</th>\n",
       "      <th>Change</th>\n",
       "    </tr>\n",
       "    <tr>\n",
       "      <th>Date</th>\n",
       "      <th></th>\n",
       "      <th></th>\n",
       "      <th></th>\n",
       "      <th></th>\n",
       "      <th></th>\n",
       "      <th></th>\n",
       "    </tr>\n",
       "  </thead>\n",
       "  <tbody>\n",
       "    <tr>\n",
       "      <th>2010-01-04</th>\n",
       "      <td>80691</td>\n",
       "      <td>80691</td>\n",
       "      <td>80551</td>\n",
       "      <td>80588</td>\n",
       "      <td>785403</td>\n",
       "      <td>-0.001981</td>\n",
       "    </tr>\n",
       "    <tr>\n",
       "      <th>2010-01-05</th>\n",
       "      <td>80627</td>\n",
       "      <td>80742</td>\n",
       "      <td>80627</td>\n",
       "      <td>80764</td>\n",
       "      <td>6443</td>\n",
       "      <td>0.002184</td>\n",
       "    </tr>\n",
       "    <tr>\n",
       "      <th>2010-01-06</th>\n",
       "      <td>80821</td>\n",
       "      <td>80872</td>\n",
       "      <td>80731</td>\n",
       "      <td>80751</td>\n",
       "      <td>10300</td>\n",
       "      <td>-0.000161</td>\n",
       "    </tr>\n",
       "    <tr>\n",
       "      <th>2010-01-07</th>\n",
       "      <td>80765</td>\n",
       "      <td>80948</td>\n",
       "      <td>80751</td>\n",
       "      <td>80965</td>\n",
       "      <td>13231</td>\n",
       "      <td>0.002650</td>\n",
       "    </tr>\n",
       "    <tr>\n",
       "      <th>2010-01-08</th>\n",
       "      <td>80992</td>\n",
       "      <td>81050</td>\n",
       "      <td>80892</td>\n",
       "      <td>80937</td>\n",
       "      <td>7663</td>\n",
       "      <td>-0.000346</td>\n",
       "    </tr>\n",
       "  </tbody>\n",
       "</table>\n",
       "</div>"
      ],
      "text/plain": [
       "             Open   High    Low  Close  Volume    Change\n",
       "Date                                                    \n",
       "2010-01-04  80691  80691  80551  80588  785403 -0.001981\n",
       "2010-01-05  80627  80742  80627  80764    6443  0.002184\n",
       "2010-01-06  80821  80872  80731  80751   10300 -0.000161\n",
       "2010-01-07  80765  80948  80751  80965   13231  0.002650\n",
       "2010-01-08  80992  81050  80892  80937    7663 -0.000346"
      ]
     },
     "execution_count": 5,
     "metadata": {},
     "output_type": "execute_result"
    }
   ],
   "source": [
    "df.head()"
   ]
  },
  {
   "cell_type": "markdown",
   "metadata": {},
   "source": [
    "### csv 파일로 저장하기"
   ]
  },
  {
   "cell_type": "code",
   "execution_count": 6,
   "metadata": {},
   "outputs": [],
   "source": [
    "df.to_csv(\"..\\\\Data\\\\KOSEF국고채3년_data.csv\",sep=\",\",encoding=\"utf-8\")"
   ]
  },
  {
   "cell_type": "markdown",
   "metadata": {},
   "source": [
    "### 마지막 영업일로 월별데이타 만들기"
   ]
  },
  {
   "cell_type": "code",
   "execution_count": 7,
   "metadata": {},
   "outputs": [],
   "source": [
    "bm = df.resample(\"BM\").last()"
   ]
  },
  {
   "cell_type": "code",
   "execution_count": 8,
   "metadata": {},
   "outputs": [
    {
     "data": {
      "text/html": [
       "<div>\n",
       "<style scoped>\n",
       "    .dataframe tbody tr th:only-of-type {\n",
       "        vertical-align: middle;\n",
       "    }\n",
       "\n",
       "    .dataframe tbody tr th {\n",
       "        vertical-align: top;\n",
       "    }\n",
       "\n",
       "    .dataframe thead th {\n",
       "        text-align: right;\n",
       "    }\n",
       "</style>\n",
       "<table border=\"1\" class=\"dataframe\">\n",
       "  <thead>\n",
       "    <tr style=\"text-align: right;\">\n",
       "      <th></th>\n",
       "      <th>Open</th>\n",
       "      <th>High</th>\n",
       "      <th>Low</th>\n",
       "      <th>Close</th>\n",
       "      <th>Volume</th>\n",
       "      <th>Change</th>\n",
       "    </tr>\n",
       "    <tr>\n",
       "      <th>Date</th>\n",
       "      <th></th>\n",
       "      <th></th>\n",
       "      <th></th>\n",
       "      <th></th>\n",
       "      <th></th>\n",
       "      <th></th>\n",
       "    </tr>\n",
       "  </thead>\n",
       "  <tbody>\n",
       "    <tr>\n",
       "      <th>2018-11-30</th>\n",
       "      <td>110167</td>\n",
       "      <td>110172</td>\n",
       "      <td>110167</td>\n",
       "      <td>110167</td>\n",
       "      <td>114</td>\n",
       "      <td>0.000045</td>\n",
       "    </tr>\n",
       "    <tr>\n",
       "      <th>2018-12-31</th>\n",
       "      <td>110536</td>\n",
       "      <td>110551</td>\n",
       "      <td>110521</td>\n",
       "      <td>110551</td>\n",
       "      <td>554</td>\n",
       "      <td>0.000000</td>\n",
       "    </tr>\n",
       "    <tr>\n",
       "      <th>2019-01-31</th>\n",
       "      <td>110750</td>\n",
       "      <td>110800</td>\n",
       "      <td>110740</td>\n",
       "      <td>110775</td>\n",
       "      <td>26279</td>\n",
       "      <td>0.000668</td>\n",
       "    </tr>\n",
       "    <tr>\n",
       "      <th>2019-02-28</th>\n",
       "      <td>110875</td>\n",
       "      <td>110894</td>\n",
       "      <td>110855</td>\n",
       "      <td>110895</td>\n",
       "      <td>71</td>\n",
       "      <td>-0.000090</td>\n",
       "    </tr>\n",
       "    <tr>\n",
       "      <th>2019-03-29</th>\n",
       "      <td>111060</td>\n",
       "      <td>111070</td>\n",
       "      <td>111020</td>\n",
       "      <td>111060</td>\n",
       "      <td>31674</td>\n",
       "      <td>-0.000180</td>\n",
       "    </tr>\n",
       "  </tbody>\n",
       "</table>\n",
       "</div>"
      ],
      "text/plain": [
       "              Open    High     Low   Close  Volume    Change\n",
       "Date                                                        \n",
       "2018-11-30  110167  110172  110167  110167     114  0.000045\n",
       "2018-12-31  110536  110551  110521  110551     554  0.000000\n",
       "2019-01-31  110750  110800  110740  110775   26279  0.000668\n",
       "2019-02-28  110875  110894  110855  110895      71 -0.000090\n",
       "2019-03-29  111060  111070  111020  111060   31674 -0.000180"
      ]
     },
     "execution_count": 8,
     "metadata": {},
     "output_type": "execute_result"
    }
   ],
   "source": [
    "bm.tail()"
   ]
  },
  {
   "cell_type": "code",
   "execution_count": 9,
   "metadata": {},
   "outputs": [],
   "source": [
    "#bm.to_csv(\"..\\\\Data\\\\KODEX국고채3년_Monthly_2010data.csv\", sep=\",\",encoding=\"utf-8\")"
   ]
  },
  {
   "cell_type": "code",
   "execution_count": null,
   "metadata": {},
   "outputs": [],
   "source": []
  }
 ],
 "metadata": {
  "kernelspec": {
   "display_name": "Python 3",
   "language": "python",
   "name": "python3"
  },
  "language_info": {
   "codemirror_mode": {
    "name": "ipython",
    "version": 3
   },
   "file_extension": ".py",
   "mimetype": "text/x-python",
   "name": "python",
   "nbconvert_exporter": "python",
   "pygments_lexer": "ipython3",
   "version": "3.6.4"
  }
 },
 "nbformat": 4,
 "nbformat_minor": 2
}
