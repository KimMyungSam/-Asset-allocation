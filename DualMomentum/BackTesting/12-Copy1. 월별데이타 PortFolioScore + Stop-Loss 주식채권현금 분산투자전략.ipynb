{
 "cells": [
  {
   "cell_type": "markdown",
   "metadata": {},
   "source": [
    "# 월별데이타 PortFolio Score + Stop-Loss 주식채권현금 분산투자전략"
   ]
  },
  {
   "cell_type": "code",
   "execution_count": 1,
   "metadata": {},
   "outputs": [],
   "source": [
    "import pandas as pd\n",
    "import numpy as np\n",
    "from datetime import datetime as dt\n",
    "\n",
    "# Finance Library import\n",
    "from Library import FinanceLibrary as fl"
   ]
  },
  {
   "cell_type": "markdown",
   "metadata": {},
   "source": [
    "##### File 읽어오기"
   ]
  },
  {
   "cell_type": "code",
   "execution_count": 2,
   "metadata": {},
   "outputs": [],
   "source": [
    "df_kodex = pd.read_csv(\"..\\\\Data\\\\KODEX200_daily_data.csv\", encoding=\"utf-8\")\n",
    "df_bond10 = pd.read_csv(\"..\\\\Data\\\\KOSEF국고채10년_daily_data.csv\", encoding=\"utf-8\")\n",
    "df_bond3 = pd.read_csv(\"..\\\\Data\\\\KODEX국고채3년_Daily_2010data.csv\", encoding=\"utf-8\")"
   ]
  },
  {
   "cell_type": "code",
   "execution_count": 3,
   "metadata": {},
   "outputs": [],
   "source": [
    "# 해도 되고 안해도 되는 정렬\n",
    "df_kodex = df_kodex.sort_values(\"Date\")\n",
    "df_bond10 = df_bond10.sort_values(\"Date\")\n",
    "df_bond3 = df_bond3.sort_values(\"Date\")"
   ]
  },
  {
   "cell_type": "markdown",
   "metadata": {},
   "source": [
    "##### KODEX 주간, 월간데이터 만들기"
   ]
  },
  {
   "cell_type": "code",
   "execution_count": 4,
   "metadata": {},
   "outputs": [],
   "source": [
    "df_kodex[\"Date\"] = pd.to_datetime(df_kodex[\"Date\"])  # Converting date to pandas datetime format\n",
    "df_kodex[\"Year\"] = df_kodex[\"Date\"].dt.year  # Getting year number\n",
    "df_kodex[\"Month\"] = df_kodex[\"Date\"].dt.month  # Getting month number\n",
    "df_kodex[\"Week_Number\"] = df_kodex[\"Date\"].dt.week  # Getting week number\n",
    "df_kodex[\"WeekDay\"] = df_kodex[\"Date\"].dt.weekday\n",
    "# 주간, 월간 Data만들기\n",
    "df_kodex_week = df_kodex.groupby([\"Year\",\"Week_Number\"]).agg({\"Open\":\"first\",\"High\":\"max\",\"Low\":\"min\",\"Close\":\"last\",\"Volume\":\"sum\",\"Date\":\"last\"})\n",
    "df_kodex_month = df_kodex.groupby([\"Year\",\"Month\"]).agg({\"Open\":\"first\",\"High\":\"max\",\"Low\":\"min\",\"Close\":\"last\",\"Volume\":\"sum\",\"Date\":\"last\"})"
   ]
  },
  {
   "cell_type": "markdown",
   "metadata": {},
   "source": [
    "##### 국채10년 주간,월간데이터 만들기"
   ]
  },
  {
   "cell_type": "code",
   "execution_count": 5,
   "metadata": {},
   "outputs": [],
   "source": [
    "df_bond10[\"Date\"] = pd.to_datetime(df_bond10[\"Date\"])  # Converting date to pandas datetime format\n",
    "df_bond10[\"Year\"] = df_bond10[\"Date\"].dt.year  # Getting year number\n",
    "df_bond10[\"Month\"] = df_bond10[\"Date\"].dt.month  # Getting month number\n",
    "df_bond10[\"Week_Number\"] = df_bond10[\"Date\"].dt.week  # Getting week number\n",
    "df_bond10[\"WeekDay\"] = df_bond10[\"Date\"].dt.weekday\n",
    "# 주간, 월간 Data만들기\n",
    "df_bond10_week = df_bond10.groupby([\"Year\",\"Week_Number\"]).agg({\"Open\":\"first\",\"High\":\"max\",\"Low\":\"min\",\"Close\":\"last\",\"Volume\":\"sum\",\"Date\":\"last\"})\n",
    "df_bond10_month = df_bond10.groupby([\"Year\",\"Month\"]).agg({\"Open\":\"first\",\"High\":\"max\",\"Low\":\"min\",\"Close\":\"last\",\"Volume\":\"sum\",\"Date\":\"last\"})"
   ]
  },
  {
   "cell_type": "markdown",
   "metadata": {},
   "source": [
    "##### 국채3년 주간,월간데이터 만들기"
   ]
  },
  {
   "cell_type": "code",
   "execution_count": 6,
   "metadata": {},
   "outputs": [],
   "source": [
    "df_bond3[\"Date\"] = pd.to_datetime(df_bond3[\"Date\"])  # Converting date to pandas datetime format\n",
    "df_bond3[\"Year\"] = df_bond3[\"Date\"].dt.year  # Getting year number\n",
    "df_bond3[\"Month\"] = df_bond3[\"Date\"].dt.month  # Getting month number\n",
    "df_bond3[\"Week_Number\"] = df_bond3[\"Date\"].dt.week  # Getting week number\n",
    "df_bond3[\"WeekDay\"] = df_bond3[\"Date\"].dt.weekday\n",
    "# 주간, 월간 Data만들기\n",
    "df_bond3_week = df_bond3.groupby([\"Year\",\"Week_Number\"]).agg({\"Open\":\"first\",\"High\":\"max\",\"Low\":\"min\",\"Close\":\"last\",\"Volume\":\"sum\",\"Date\":\"last\"})\n",
    "df_bond3_month = df_bond3.groupby([\"Year\",\"Month\"]).agg({\"Open\":\"first\",\"High\":\"max\",\"Low\":\"min\",\"Close\":\"last\",\"Volume\":\"sum\",\"Date\":\"last\"})"
   ]
  },
  {
   "cell_type": "markdown",
   "metadata": {},
   "source": [
    "##### 국고채10년 데이터 시작주인 2011,42주후 데이터 만들기"
   ]
  },
  {
   "cell_type": "code",
   "execution_count": 7,
   "metadata": {},
   "outputs": [],
   "source": [
    "# 국고채10년 데이터 시작주인 2011,42주후 데이터 만들기\n",
    "kodex_month = df_kodex_month.loc[(2011,42):]\n",
    "bond10_month = df_bond10_month.loc[(2011,42):]\n",
    "bond3_month = df_bond3_month.loc[(2011,42):]\n",
    "# index Date로 재지정하기\n",
    "kodex_month = kodex_month.reset_index()\n",
    "kodex_month.index = pd.to_datetime(kodex_month[\"Date\"])\n",
    "kodex_month = kodex_month.sort_index()\n",
    "bond10_month = bond10_month.reset_index()\n",
    "bond10_month.index = pd.to_datetime(bond10_month[\"Date\"])\n",
    "bond10_month = bond10_month.sort_index()\n",
    "bond3_month = bond3_month.reset_index()\n",
    "bond3_month.index = pd.to_datetime(bond3_month[\"Date\"])\n",
    "bond3_month = bond3_month.sort_index()"
   ]
  },
  {
   "cell_type": "markdown",
   "metadata": {},
   "source": [
    "##### re-scale"
   ]
  },
  {
   "cell_type": "code",
   "execution_count": 8,
   "metadata": {
    "scrolled": true
   },
   "outputs": [],
   "source": [
    "KODEX = kodex_month[\"Close\"]/kodex_month[\"Close\"][0]\n",
    "KODEX = pd.DataFrame(np.round(KODEX,4))\n",
    "BOND10 = bond10_month[\"Close\"]/bond10_month[\"Close\"][0]\n",
    "BOND10 = pd.DataFrame(np.round(BOND10,4))\n",
    "BOND3 = bond3_month[\"Close\"]/bond3_month[\"Close\"][0]\n",
    "BOND3 = pd.DataFrame(np.round(BOND3,4))"
   ]
  },
  {
   "cell_type": "markdown",
   "metadata": {},
   "source": [
    "##### Low, Close 등락율 구하기"
   ]
  },
  {
   "cell_type": "code",
   "execution_count": 9,
   "metadata": {},
   "outputs": [],
   "source": [
    "# Low 데이타는 전일 Close와 비교하여 등락율을 구함\n",
    "kodex_month_low = (kodex_month[\"Low\"].shift(-1)/kodex_month[\"Close\"] - 1) * 100\n",
    "kodex_month_low = np.round(kodex_month_low, 4)\n",
    "bond10_month_low = (bond10_month[\"Low\"].shift(-1)/bond10_month[\"Close\"] - 1) * 100\n",
    "bond10_month_low = np.round(bond10_month_low, 4)\n",
    "bond3_month_low = (bond3_month[\"Low\"].shift(-1)/bond3_month[\"Close\"] - 1) * 100\n",
    "bond3_month_low = np.round(bond3_month_low, 4)\n",
    "# Close 데이타는 전일 Close와 비교하여 등락율을 구함\n",
    "kodex_month_close = np.round((kodex_month[\"Close\"].shift(-1)/kodex_month[\"Close\"] - 1) * 100, 4)\n",
    "bond10_month_close = np.round((bond10_month[\"Close\"].shift(-1)/bond10_month[\"Close\"] - 1) * 100, 4)\n",
    "bond3_month_close = np.round((bond3_month[\"Close\"].shift(-1)/bond3_month[\"Close\"] - 1) * 100, 4)\n",
    "# Low와 Close 데이타 합치기\n",
    "kodex = pd.concat([kodex_month_low.rename(\"Low\"),kodex_month_close.rename(\"Close\")],axis=1)\n",
    "bond10 = pd.concat([bond10_month_low.rename(\"Low\"),bond10_month_close.rename(\"Close\")],axis=1)\n",
    "bond3 = pd.concat([bond3_month_low.rename(\"Low\"),bond3_month_close.rename(\"Close\")],axis=1)"
   ]
  },
  {
   "cell_type": "markdown",
   "metadata": {},
   "source": [
    "##### Low 값을 기준값과 비교하여 업데이트하기"
   ]
  },
  {
   "cell_type": "markdown",
   "metadata": {},
   "source": [
    "# VAL"
   ]
  },
  {
   "cell_type": "code",
   "execution_count": 10,
   "metadata": {},
   "outputs": [],
   "source": [
    "val = -3.5  # 기준값(판단값)\n",
    "count = 0\n",
    "for i in range(len(kodex)):\n",
    "    if kodex[\"Low\"][i] < val:\n",
    "        kodex[\"Close\"][i] = val\n",
    "        count += 1\n",
    "        \n",
    "for i in range(len(bond10)):\n",
    "    if bond10[\"Low\"][i] < val:\n",
    "        bond10[\"Close\"][i] = val\n",
    "\n",
    "for i in range(len(bond3)):\n",
    "    if bond3[\"Low\"][i] < val:\n",
    "        bond3[\"Close\"][i] = val"
   ]
  },
  {
   "cell_type": "code",
   "execution_count": 11,
   "metadata": {},
   "outputs": [
    {
     "name": "stdout",
     "output_type": "stream",
     "text": [
      "87\n",
      "28\n"
     ]
    }
   ],
   "source": [
    "print (len(kodex))\n",
    "print (count)"
   ]
  },
  {
   "cell_type": "markdown",
   "metadata": {},
   "source": [
    "#### 모멘텀 수익률"
   ]
  },
  {
   "cell_type": "code",
   "execution_count": 12,
   "metadata": {},
   "outputs": [],
   "source": [
    "# Stop Loss 사용\n",
    "#kodex_momentum_return = pd.Series(kodex[\"Close\"]/100 + 1, index=kodex_month.index)\n",
    "#bond10_momentum_return = pd.Series(bond10[\"Close\"]/100 + 1, index=bond10_month.index)\n",
    "#bond3_momentum_return = pd.Series(bond3[\"Close\"]/100 + 1, index=bond3_month.index)\n",
    "# Stop Loss 미사용\n",
    "KODEX[\"Tomorrow Retrun\"] = fl.YesterdayReturn(KODEX)\n",
    "KODEX[\"Tomorrow Retrun\"][0] = 1  # 과거수익률임으로 첫번째 cell은 \"1\"로 채워준다\n",
    "BOND10[\"Tomorrow Retrun\"] = fl.YesterdayReturn(BOND10)\n",
    "BOND10[\"Tomorrow Retrun\"][0] = 1\n",
    "BOND3[\"Tomorrow Retrun\"] = fl.YesterdayReturn(BOND3)\n",
    "BOND3[\"Tomorrow Retrun\"][0] = 1"
   ]
  },
  {
   "cell_type": "markdown",
   "metadata": {},
   "source": [
    "##### 평균모멘텀 스코어 구하기"
   ]
  },
  {
   "cell_type": "markdown",
   "metadata": {},
   "source": [
    "# Momentum? 6months"
   ]
  },
  {
   "cell_type": "code",
   "execution_count": 13,
   "metadata": {},
   "outputs": [],
   "source": [
    "# KODEX 평균모멘텀 스코어, 기간설정\n",
    "KODEX[\"Avg Mo-Score\"] = fl.AverageMomentum(KODEX[\"Close\"],6)\n",
    "# BOND 평균모멘텀 스코어, 기간설정\n",
    "BOND10[\"Avg Mo-Score\"] = fl.AverageMomentum(BOND10[\"Close\"],6)"
   ]
  },
  {
   "cell_type": "code",
   "execution_count": 14,
   "metadata": {},
   "outputs": [],
   "source": [
    "# 투자 비중 = KODEX / ( KODEX 12개월 평균 모멘텀 + BOND10 12개월 평균 모멘텀 + 1(3개월 펀드=현금))\n",
    "# 현금에 해당하는 3년국채는 \"1\" 비율만큼 항상 투입된다\n",
    "KODEX[\"Ratio\"] = np.round(KODEX[\"Avg Mo-Score\"]/ (KODEX[\"Avg Mo-Score\"] + BOND10[\"Avg Mo-Score\"]  + 1),4)\n",
    "BOND10[\"Ratio\"] = np.round(BOND10[\"Avg Mo-Score\"]/ (KODEX[\"Avg Mo-Score\"] + BOND10[\"Avg Mo-Score\"] + 1),4)\n",
    "BOND3[\"Ratio\"] = np.round(1 - (BOND10[\"Ratio\"] + KODEX[\"Ratio\"]),4)"
   ]
  },
  {
   "cell_type": "markdown",
   "metadata": {},
   "source": [
    "# PortFolio Score 비율 투자"
   ]
  },
  {
   "cell_type": "code",
   "execution_count": 15,
   "metadata": {},
   "outputs": [],
   "source": [
    "# 마켓스코어 구하기\n",
    "#market_score = fl.MarketScore(KODEX)\n",
    "#MarketScore = pd.Series(market_score, index=kodex_month.index)\n",
    "#MarketScore = MarketScore.rolling(window=8,min_periods=1).mean()\n",
    "\n",
    "#MarketCash = 1 - MarketScore"
   ]
  },
  {
   "cell_type": "code",
   "execution_count": 16,
   "metadata": {},
   "outputs": [
    {
     "data": {
      "text/plain": [
       "'\\n#모멘텀비중 투자\\n모멘텀배분수익 = (MarketScore * kodex_momentum_return * kodex_ratio) + (MarketScore * bond10_momentum_return * bond10_ratio)            + (MarketScore * bond3_momentum_return * cash_ratio)\\nmo_val = 모멘텀배분수익 + bond3_momentum_return*MarketCash\\n모멘텀배분TRI = np.cumprod(mo_val)  # 누적 수익률 = 마켓스코어만큼 투자하고 나머지 현금으로 보유\\n# 동일비중 투자\\n균등배분수익 = MarketScore* kodex_momentum_return * 0.3333 + MarketScore * bond10_momentum_return * 0.3333 + MarketScore * bond3_momentum_return * 0.3334\\navg_val = 균등배분수익 + bond3_momentum_return*MarketCash\\n균등배분TRI = np.cumprod(avg_val) # 누적 수익률 = 마켓스코어만큼 투자하고 나머지 현금으로 보유\\n'"
      ]
     },
     "execution_count": 16,
     "metadata": {},
     "output_type": "execute_result"
    }
   ],
   "source": [
    "'''\n",
    "#모멘텀비중 투자\n",
    "모멘텀배분수익 = (MarketScore * kodex_momentum_return * kodex_ratio) + (MarketScore * bond10_momentum_return * bond10_ratio)\\\n",
    "            + (MarketScore * bond3_momentum_return * cash_ratio)\n",
    "mo_val = 모멘텀배분수익 + bond3_momentum_return*MarketCash\n",
    "모멘텀배분TRI = np.cumprod(mo_val)  # 누적 수익률 = 마켓스코어만큼 투자하고 나머지 현금으로 보유\n",
    "# 동일비중 투자\n",
    "균등배분수익 = MarketScore* kodex_momentum_return * 0.3333 + MarketScore * bond10_momentum_return * 0.3333 + MarketScore * bond3_momentum_return * 0.3334\n",
    "avg_val = 균등배분수익 + bond3_momentum_return*MarketCash\n",
    "균등배분TRI = np.cumprod(avg_val) # 누적 수익률 = 마켓스코어만큼 투자하고 나머지 현금으로 보유\n",
    "'''"
   ]
  },
  {
   "cell_type": "markdown",
   "metadata": {},
   "source": [
    "# PortFolio Score 비율투자"
   ]
  },
  {
   "cell_type": "code",
   "execution_count": 17,
   "metadata": {},
   "outputs": [
    {
     "data": {
      "text/html": [
       "<div>\n",
       "<style scoped>\n",
       "    .dataframe tbody tr th:only-of-type {\n",
       "        vertical-align: middle;\n",
       "    }\n",
       "\n",
       "    .dataframe tbody tr th {\n",
       "        vertical-align: top;\n",
       "    }\n",
       "\n",
       "    .dataframe thead th {\n",
       "        text-align: right;\n",
       "    }\n",
       "</style>\n",
       "<table border=\"1\" class=\"dataframe\">\n",
       "  <thead>\n",
       "    <tr style=\"text-align: right;\">\n",
       "      <th></th>\n",
       "      <th>오리지널 현금투자 금액</th>\n",
       "    </tr>\n",
       "    <tr>\n",
       "      <th>Date</th>\n",
       "      <th></th>\n",
       "    </tr>\n",
       "  </thead>\n",
       "  <tbody>\n",
       "    <tr>\n",
       "      <th>2012-01-31</th>\n",
       "      <td>0.0000</td>\n",
       "    </tr>\n",
       "    <tr>\n",
       "      <th>2012-02-29</th>\n",
       "      <td>0.1429</td>\n",
       "    </tr>\n",
       "    <tr>\n",
       "      <th>2012-03-30</th>\n",
       "      <td>0.1429</td>\n",
       "    </tr>\n",
       "    <tr>\n",
       "      <th>2012-04-30</th>\n",
       "      <td>0.4000</td>\n",
       "    </tr>\n",
       "    <tr>\n",
       "      <th>2012-05-31</th>\n",
       "      <td>0.4000</td>\n",
       "    </tr>\n",
       "  </tbody>\n",
       "</table>\n",
       "</div>"
      ],
      "text/plain": [
       "            오리지널 현금투자 금액\n",
       "Date                    \n",
       "2012-01-31        0.0000\n",
       "2012-02-29        0.1429\n",
       "2012-03-30        0.1429\n",
       "2012-04-30        0.4000\n",
       "2012-05-31        0.4000"
      ]
     },
     "execution_count": 17,
     "metadata": {},
     "output_type": "execute_result"
    }
   ],
   "source": [
    "PortFolio = pd.DataFrame()\n",
    "PortFolio[\"오리지널 현금투자 금액\"] = KODEX[\"Ratio\"] + BOND10[\"Ratio\"]\n",
    "PortFolio.head()"
   ]
  },
  {
   "cell_type": "code",
   "execution_count": 18,
   "metadata": {},
   "outputs": [],
   "source": [
    "#모멘텀비중 투자\n",
    "PortFolio[\"Pre수익\"] = (KODEX[\"Tomorrow Retrun\"] * KODEX[\"Ratio\"]) + (BOND10[\"Tomorrow Retrun\"] * BOND10[\"Ratio\"])\\\n",
    "            + (BOND3[\"Tomorrow Retrun\"] * BOND3[\"Ratio\"])\n",
    "PortFolio[\"Pre수익\"] = np.round(PortFolio[\"Pre수익\"],4)\n",
    "PortFolio[\"Pre누적수익\"] = np.cumprod(PortFolio[\"Pre수익\"])  # 누적 수익률 = 마켓스코어만큼 투자하고 나머지 현금으로 보유\n",
    "# 동일비중 투자\n",
    "PortFolio[\"Pre균등수익\"] = KODEX[\"Tomorrow Retrun\"] * 0.3333 + BOND10[\"Tomorrow Retrun\"] * 0.3333 + BOND3[\"Tomorrow Retrun\"] * 0.3334\n",
    "PortFolio[\"Pre균등누적수익\"] = np.cumprod(PortFolio[\"Pre균등수익\"]) # 누적 수익률 = 마켓스코어만큼 투자하고 나머지 현금으로 보유"
   ]
  },
  {
   "cell_type": "markdown",
   "metadata": {},
   "source": [
    "# 수익곡선 포트폴리오, 기간 6개월"
   ]
  },
  {
   "cell_type": "code",
   "execution_count": 19,
   "metadata": {
    "scrolled": true
   },
   "outputs": [
    {
     "data": {
      "text/plain": [
       "Date\n",
       "2018-11-30    0.5384\n",
       "2018-12-28    0.5384\n",
       "2019-01-31    0.5714\n",
       "2019-02-28    0.6000\n",
       "2019-03-06    0.5385\n",
       "Name: 오리지널 현금투자 금액, dtype: float64"
      ]
     },
     "execution_count": 19,
     "metadata": {},
     "output_type": "execute_result"
    }
   ],
   "source": [
    "PortFolio[\"오리지널 현금투자 금액\"].tail()"
   ]
  },
  {
   "cell_type": "code",
   "execution_count": 20,
   "metadata": {},
   "outputs": [],
   "source": [
    "# 모멘텀 투자\n",
    "PortFolio[\"포트투자 금액\"] = fl.AverageMomentum(PortFolio[\"Pre누적수익\"],6)\n",
    "PortFolio[\"현금투자 금액\"] = 1 - PortFolio[\"포트투자 금액\"]\n",
    "\n",
    "PortFolio[\"Momentum Return\"] = PortFolio[\"포트투자 금액\"] * (KODEX[\"Tomorrow Retrun\"] * KODEX[\"Ratio\"] + (BOND10[\"Tomorrow Retrun\"]* BOND10[\"Ratio\"])\\\n",
    "            + (BOND3[\"Tomorrow Retrun\"] * BOND3[\"Ratio\"]))\n",
    "PortFolio[\"Momentum Cash Return\"] = PortFolio[\"현금투자 금액\"] * BOND3[\"Tomorrow Retrun\"]\n",
    "PortFolio[\"모멘텀 최종수익\"] = PortFolio[\"Momentum Return\"] + PortFolio[\"Momentum Cash Return\"]\n",
    "PortFolio[\"모멘텀 최종누적수익\"] = np.cumprod(PortFolio[\"모멘텀 최종수익\"])  # 누적 수익률 = 마켓스코어만큼 투자하고 나머지 현금으로 보유\n",
    "# 동일비중 투자\n",
    "PortFolio[\"Pre 균등-Score\"] = pd.Series(fl.AverageMomentum(PortFolio[\"Pre균등누적수익\"],1), index=PortFolio[\"Pre균등누적수익\"].index)\n",
    "PortFolio[\"Pre 균등 Cash\"] = 1 - PortFolio[\"Pre 균등-Score\"]\n",
    "\n",
    "PortFolio[\"균등 수익\"] = PortFolio[\"Pre 균등-Score\"] * (KODEX[\"Tomorrow Retrun\"] * PortFolio[\"Pre 균등-Score\"]/3 + BOND10[\"Tomorrow Retrun\"] * PortFolio[\"Pre 균등-Score\"]/3 + BOND3[\"Tomorrow Retrun\"] * PortFolio[\"Pre 균등-Score\"]/3)\n",
    "PortFolio[\"균등 현금수익\"] = BOND3[\"Tomorrow Retrun\"] * PortFolio[\"Pre 균등 Cash\"]\n",
    "PortFolio[\"균등 최종수익\"] = PortFolio[\"균등 수익\"] + PortFolio[\"균등 현금수익\"]\n",
    "PortFolio[\"균등 최종누적수익\"] = np.cumprod(PortFolio[\"균등 최종수익\"])"
   ]
  },
  {
   "cell_type": "markdown",
   "metadata": {},
   "source": [
    "##### 포트 투자비율 비교하기"
   ]
  },
  {
   "cell_type": "code",
   "execution_count": 27,
   "metadata": {},
   "outputs": [
    {
     "data": {
      "text/plain": [
       "<matplotlib.axes._subplots.AxesSubplot at 0xa6b10b0>"
      ]
     },
     "execution_count": 27,
     "metadata": {},
     "output_type": "execute_result"
    },
    {
     "data": {
      "image/png": "[encoded data removed]",
      "text/plain": [
       "<matplotlib.figure.Figure at 0xa698d70>"
      ]
     },
     "metadata": {},
     "output_type": "display_data"
    }
   ],
   "source": [
    "PortFolio[\"포트투자 금액\"].plot(color=\"Red\")\n",
    "PortFolio[\"오리지널 현금투자 금액\"].plot(color=\"Black\",figsize=(16,4))"
   ]
  },
  {
   "cell_type": "code",
   "execution_count": 22,
   "metadata": {},
   "outputs": [
    {
     "data": {
      "text/plain": [
       "<matplotlib.axes._subplots.AxesSubplot at 0x9ecf270>"
      ]
     },
     "execution_count": 22,
     "metadata": {},
     "output_type": "execute_result"
    },
    {
     "data": {
      "image/png": "[encoded data removed]",
      "text/plain": [
       "<matplotlib.figure.Figure at 0x75eb910>"
      ]
     },
     "metadata": {},
     "output_type": "display_data"
    }
   ],
   "source": [
    "PortFolio[\"Pre누적수익\"].plot(figsize=(16,4))\n",
    "KODEX[\"Close\"].plot(color=\"Black\")\n",
    "PortFolio[\"모멘텀 최종누적수익\"].plot(color=\"Red\")"
   ]
  },
  {
   "cell_type": "code",
   "execution_count": 23,
   "metadata": {},
   "outputs": [],
   "source": [
    "# csv로 저장\n",
    "PortFolio.to_csv(\"PortFolio.csv\",sep=\",\",encoding=\"euc-kr\")"
   ]
  },
  {
   "cell_type": "markdown",
   "metadata": {},
   "source": [
    "##### Pew모멘텀 vs 모멘텀 비교하기"
   ]
  },
  {
   "cell_type": "code",
   "execution_count": 24,
   "metadata": {},
   "outputs": [
    {
     "data": {
      "text/html": [
       "<div>\n",
       "<style scoped>\n",
       "    .dataframe tbody tr th:only-of-type {\n",
       "        vertical-align: middle;\n",
       "    }\n",
       "\n",
       "    .dataframe tbody tr th {\n",
       "        vertical-align: top;\n",
       "    }\n",
       "\n",
       "    .dataframe thead th {\n",
       "        text-align: right;\n",
       "    }\n",
       "</style>\n",
       "<table border=\"1\" class=\"dataframe\">\n",
       "  <thead>\n",
       "    <tr style=\"text-align: right;\">\n",
       "      <th></th>\n",
       "      <th>Initial Balnce</th>\n",
       "      <th>Final Balance</th>\n",
       "      <th>CAGR</th>\n",
       "      <th>Std</th>\n",
       "      <th>Max.Drawdown</th>\n",
       "      <th>Sharpe Ratio</th>\n",
       "    </tr>\n",
       "  </thead>\n",
       "  <tbody>\n",
       "    <tr>\n",
       "      <th>KODEX</th>\n",
       "      <td>1.0</td>\n",
       "      <td>1.203700</td>\n",
       "      <td>2.3446</td>\n",
       "      <td>0.129219</td>\n",
       "      <td>-20.1555</td>\n",
       "      <td>0.080742</td>\n",
       "    </tr>\n",
       "    <tr>\n",
       "      <th>BOND10</th>\n",
       "      <td>1.0</td>\n",
       "      <td>1.362200</td>\n",
       "      <td>3.9394</td>\n",
       "      <td>0.112059</td>\n",
       "      <td>-8.3089</td>\n",
       "      <td>0.314200</td>\n",
       "    </tr>\n",
       "    <tr>\n",
       "      <th>CASH</th>\n",
       "      <td>1.0</td>\n",
       "      <td>1.217700</td>\n",
       "      <td>2.4926</td>\n",
       "      <td>0.063621</td>\n",
       "      <td>-1.2416</td>\n",
       "      <td>0.626054</td>\n",
       "    </tr>\n",
       "    <tr>\n",
       "      <th>PortFolio 모멘텀 최종누적수익</th>\n",
       "      <td>1.0</td>\n",
       "      <td>1.719515</td>\n",
       "      <td>7.0103</td>\n",
       "      <td>0.214670</td>\n",
       "      <td>-1.4153</td>\n",
       "      <td>0.798635</td>\n",
       "    </tr>\n",
       "    <tr>\n",
       "      <th>PortFolio Pre누적수익</th>\n",
       "      <td>1.0</td>\n",
       "      <td>1.691675</td>\n",
       "      <td>6.7922</td>\n",
       "      <td>0.204704</td>\n",
       "      <td>-1.4547</td>\n",
       "      <td>0.735247</td>\n",
       "    </tr>\n",
       "  </tbody>\n",
       "</table>\n",
       "</div>"
      ],
      "text/plain": [
       "                      Initial Balnce  Final Balance    CAGR       Std  \\\n",
       "KODEX                            1.0       1.203700  2.3446  0.129219   \n",
       "BOND10                           1.0       1.362200  3.9394  0.112059   \n",
       "CASH                             1.0       1.217700  2.4926  0.063621   \n",
       "PortFolio 모멘텀 최종누적수익             1.0       1.719515  7.0103  0.214670   \n",
       "PortFolio Pre누적수익                1.0       1.691675  6.7922  0.204704   \n",
       "\n",
       "                      Max.Drawdown  Sharpe Ratio  \n",
       "KODEX                     -20.1555      0.080742  \n",
       "BOND10                     -8.3089      0.314200  \n",
       "CASH                       -1.2416      0.626054  \n",
       "PortFolio 모멘텀 최종누적수익       -1.4153      0.798635  \n",
       "PortFolio Pre누적수익          -1.4547      0.735247  "
      ]
     },
     "execution_count": 24,
     "metadata": {},
     "output_type": "execute_result"
    }
   ],
   "source": [
    "kodex = fl.Portfolio(KODEX[\"Close\"],\"KODEX\")\n",
    "bond10 = fl.Portfolio(BOND10[\"Close\"],\"BOND10\")\n",
    "cash = fl.Portfolio(BOND3[\"Close\"],\"CASH\")\n",
    "모멘텀 = fl.Portfolio(PortFolio[\"모멘텀 최종누적수익\"],\"PortFolio 모멘텀 최종누적수익\")\n",
    "pre모멘텀tri = fl.Portfolio(PortFolio[\"Pre누적수익\"],\"PortFolio Pre누적수익\")\n",
    "\n",
    "result = pd.concat([kodex,bond10,cash,모멘텀,pre모멘텀tri],axis=1)\n",
    "pd.DataFrame(result).T"
   ]
  },
  {
   "cell_type": "code",
   "execution_count": 25,
   "metadata": {
    "scrolled": false
   },
   "outputs": [
    {
     "data": {
      "text/plain": [
       "<matplotlib.axes._subplots.AxesSubplot at 0x9ea3fb0>"
      ]
     },
     "execution_count": 25,
     "metadata": {},
     "output_type": "execute_result"
    },
    {
     "data": {
      "image/png": "[encoded data removed]",
      "text/plain": [
       "<matplotlib.figure.Figure at 0x9f4a6b0>"
      ]
     },
     "metadata": {},
     "output_type": "display_data"
    }
   ],
   "source": [
    "PortFolio[\"모멘텀 최종누적수익\"].plot(color=\"Blue\", figsize=(14,6))\n",
    "PortFolio[\"Pre누적수익\"].plot(color=\"Red\", figsize=(14,6))"
   ]
  },
  {
   "cell_type": "code",
   "execution_count": 26,
   "metadata": {},
   "outputs": [
    {
     "ename": "NameError",
     "evalue": "name '균등배분TRI' is not defined",
     "output_type": "error",
     "traceback": [
      "\u001b[1;31m---------------------------------------------------------------------------\u001b[0m",
      "\u001b[1;31mNameError\u001b[0m                                 Traceback (most recent call last)",
      "\u001b[1;32m<ipython-input-26-322fd79e2083>\u001b[0m in \u001b[0;36m<module>\u001b[1;34m()\u001b[0m\n\u001b[1;32m----> 1\u001b[1;33m \u001b[0m균등배분TRI\u001b[0m\u001b[1;33m.\u001b[0m\u001b[0mplot\u001b[0m\u001b[1;33m(\u001b[0m\u001b[0mcolor\u001b[0m\u001b[1;33m=\u001b[0m\u001b[1;34m\"Blue\"\u001b[0m\u001b[1;33m)\u001b[0m\u001b[1;33m\u001b[0m\u001b[0m\n\u001b[0m\u001b[0;32m      2\u001b[0m \u001b[0mpre균등배분TRI\u001b[0m\u001b[1;33m.\u001b[0m\u001b[0mplot\u001b[0m\u001b[1;33m(\u001b[0m\u001b[0mcolor\u001b[0m\u001b[1;33m=\u001b[0m\u001b[1;34m\"Red\"\u001b[0m\u001b[1;33m)\u001b[0m\u001b[1;33m\u001b[0m\u001b[0m\n",
      "\u001b[1;31mNameError\u001b[0m: name '균등배분TRI' is not defined"
     ]
    }
   ],
   "source": [
    "균등배분TRI.plot(color=\"Blue\")\n",
    "pre균등배분TRI.plot(color=\"Red\")"
   ]
  },
  {
   "cell_type": "markdown",
   "metadata": {},
   "source": [
    "##### 최빈값구하기"
   ]
  },
  {
   "cell_type": "code",
   "execution_count": null,
   "metadata": {},
   "outputs": [],
   "source": [
    "returns = KODEX.pct_change() * 100  # 수익률 %구하기\n",
    "returns = np.round(returns,4)  # %단위로 환산, 자리수 정리"
   ]
  },
  {
   "cell_type": "code",
   "execution_count": null,
   "metadata": {
    "scrolled": false
   },
   "outputs": [],
   "source": [
    "from collections import Counter\n",
    "cnt = Counter(returns)\n",
    "order = cnt.most_common()  # 내림차순\n",
    "cnt.most_common(5)  # 빈도 상위5개"
   ]
  },
  {
   "cell_type": "markdown",
   "metadata": {},
   "source": [
    "##### Histogram "
   ]
  },
  {
   "cell_type": "code",
   "execution_count": null,
   "metadata": {
    "scrolled": true
   },
   "outputs": [],
   "source": [
    "cnt = sorted(cnt, key=cnt.get,reverse=True)  # counter객체에서 value로 list객체 만들기\n",
    "data = [x for x in cnt if ~np.isnan(x)]  # list에서 nan 제거"
   ]
  },
  {
   "cell_type": "code",
   "execution_count": null,
   "metadata": {
    "scrolled": false
   },
   "outputs": [],
   "source": [
    "%matplotlib inline\n",
    "import matplotlib.pyplot as plt\n",
    "#한글폰트사용하기\n",
    "from matplotlib import rc, font_manager\n",
    "import matplotlib\n",
    "rc(\"font\", family=\"NanumGothic\")\n",
    "matplotlib.rcParams['axes.unicode_minus'] = False\n",
    "%matplotlib inline\n",
    "\n",
    "plt.figure(figsize=(14,4))\n",
    "plt.hist(data,rwidth=0.8, bins=100, alpha=0.8)\n",
    "plt.grid(True)"
   ]
  },
  {
   "cell_type": "code",
   "execution_count": null,
   "metadata": {
    "scrolled": true
   },
   "outputs": [],
   "source": [
    "print (\"전체 갯수:\",len(data))\n",
    "each = [x for x in data if x < -3]\n",
    "print (\"조건 갯수:\",len(each))"
   ]
  },
  {
   "cell_type": "markdown",
   "metadata": {},
   "source": [
    "##### 포트폴리오 성과 비교하기"
   ]
  },
  {
   "cell_type": "code",
   "execution_count": null,
   "metadata": {
    "scrolled": true
   },
   "outputs": [],
   "source": [
    "kodex = fl.Portfolio(KODEX,\"KODEX\")\n",
    "bond10 = fl.Portfolio(BOND10,\"BOND10\")\n",
    "cash = fl.Portfolio(BOND3,\"CASH\")\n",
    "tri = fl.Portfolio(모멘텀배분TRI,\"모멘텀배분TRI\")\n",
    "균등tri = fl.Portfolio(균등배분TRI,\"균등배분TRI\")\n",
    "\n",
    "result = pd.concat([kodex,bond10,cash,tri,균등tri],axis=1)\n",
    "pd.DataFrame(result).T"
   ]
  },
  {
   "cell_type": "markdown",
   "metadata": {},
   "source": [
    "### 그래프"
   ]
  },
  {
   "cell_type": "code",
   "execution_count": null,
   "metadata": {
    "scrolled": false
   },
   "outputs": [],
   "source": [
    "import matplotlib.pyplot as plt\n",
    "#한글폰트사용하기\n",
    "from matplotlib import rc, font_manager\n",
    "import matplotlib\n",
    "rc(\"font\", family=\"NanumGothic\")\n",
    "matplotlib.rcParams['axes.unicode_minus'] = False\n",
    "%matplotlib inline\n",
    "\n",
    "fig = plt.figure(figsize=(14,8))\n",
    "ax1 = fig.add_subplot(3,1,1)\n",
    "ax2 = fig.add_subplot(3,1,2)\n",
    "ax3 = fig.add_subplot(3,1,3)\n",
    "\n",
    "ax1.set_title(\"Returns\")\n",
    "ax1.plot(KODEX,color=\"Black\",label=\"KODEX\")\n",
    "ax1.plot(BOND10,label=\"BOND10\")\n",
    "ax1.plot(BOND3,label=\"CASH\")\n",
    "ax1.plot(모멘텀배분TRI,color=\"Red\",label=\"모멘텀배분TRI\")\n",
    "ax1.plot(균등배분TRI,color=\"Blue\",label=\"균등배분TRI\")\n",
    "ax1.grid()\n",
    "ax1.legend(loc=2)\n",
    "\n",
    "ax2.set_title(\"Ratio\")\n",
    "ax2.plot(kodex_ratio,color=\"Black\", label=\"KODEX\")\n",
    "ax2.plot(bond10_ratio, label=\"BOND10\")\n",
    "ax2.plot(cash_ratio, label=\"CASH\")\n",
    "ax2.grid()\n",
    "ax2.legend(loc=2)\n",
    "\n",
    "ax3.set_title(\"Score\")\n",
    "ax3.plot(kodex_average_score, color=\"Black\", label=\"kodex_average_score\")\n",
    "ax3.plot(bond10_average_score, color=\"Red\", label=\"bond10_average_score\")\n",
    "ax3.grid()\n",
    "ax3.legend(loc=2)\n",
    "\n",
    "# 차트끼리 충돌을 방지합니다.\n",
    "plt.tight_layout()\n",
    "plt.show()"
   ]
  },
  {
   "cell_type": "code",
   "execution_count": null,
   "metadata": {},
   "outputs": [],
   "source": []
  }
 ],
 "metadata": {
  "kernelspec": {
   "display_name": "Python 3",
   "language": "python",
   "name": "python3"
  },
  "language_info": {
   "codemirror_mode": {
    "name": "ipython",
    "version": 3
   },
   "file_extension": ".py",
   "mimetype": "text/x-python",
   "name": "python",
   "nbconvert_exporter": "python",
   "pygments_lexer": "ipython3",
   "version": "3.6.4"
  }
 },
 "nbformat": 4,
 "nbformat_minor": 2
}
