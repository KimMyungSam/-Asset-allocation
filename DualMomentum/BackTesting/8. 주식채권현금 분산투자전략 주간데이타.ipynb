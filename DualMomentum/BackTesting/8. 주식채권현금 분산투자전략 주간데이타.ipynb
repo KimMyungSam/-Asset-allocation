{
 "cells": [
  {
   "cell_type": "markdown",
   "metadata": {},
   "source": [
    "# 8. 주식채권현금 분산투자전략 주간데이타"
   ]
  },
  {
   "cell_type": "code",
   "execution_count": 1,
   "metadata": {},
   "outputs": [],
   "source": [
    "import pandas as pd\n",
    "import numpy as np\n",
    "\n",
    "# Finance Library import\n",
    "from Library import FinanceLibrary as fl"
   ]
  },
  {
   "cell_type": "code",
   "execution_count": 2,
   "metadata": {},
   "outputs": [
    {
     "name": "stdout",
     "output_type": "stream",
     "text": [
      "C:\\DualMomentum\\BackTesting\n"
     ]
    }
   ],
   "source": [
    "import os\n",
    "print (os.getcwd())"
   ]
  },
  {
   "cell_type": "code",
   "execution_count": 3,
   "metadata": {},
   "outputs": [],
   "source": [
    "df_kodex = pd.read_csv(\"..\\\\Data\\\\KODEX200_daily_data.csv\", encoding=\"utf-8\")\n",
    "df_bond10 = pd.read_csv(\"..\\\\Data\\\\KOSEF국고채10년_Daily_2011data.csv\", encoding=\"utf-8\")\n",
    "df_bond3 = pd.read_csv(\"..\\\\Data\\\\KODEX국고채3년_Daily_2010data.csv\", encoding=\"utf-8\")"
   ]
  },
  {
   "cell_type": "code",
   "execution_count": 4,
   "metadata": {
    "scrolled": true
   },
   "outputs": [],
   "source": [
    "df_kodex.index = pd.to_datetime(df_kodex[\"Date\"])\n",
    "df_bond10.index = pd.to_datetime(df_bond10[\"Date\"])\n",
    "df_bond3.index = pd.to_datetime(df_bond3[\"Date\"])\n",
    "\n",
    "# 시작하는 날짜 지정하기, 채권 시작하는 날이 2011-12월이여서 주식도 시작날짜를 맞춤\n",
    "df_kodex = df_kodex[\"2011-12\":]\n",
    "df_bond10 = df_bond10[\"2011-12\":]\n",
    "df_bond3 = df_bond3[\"2011-12\":]\n",
    "\n",
    "df_kodex = df_kodex[\"Close\"]\n",
    "#df_kodex = df_kodex.resample(\"WOM-4TUE\")._upsample(None).interpolate()\n",
    "df_kodex = df_kodex.resample(\"W-FRI\")._upsample(None).interpolate()\n",
    "#df_kodex = df_kodex.resample(\"BM\").last()\n",
    "\n",
    "df_bond10 = df_bond10[\"Close\"]\n",
    "#df_bond10 = df_bond10.resample(\"WOM-4TUE\")._upsample(None).interpolate()\n",
    "df_bond10 = df_bond10.resample(\"W-FRI\")._upsample(None).interpolate()\n",
    "#df_bond10 = df_bond10.resample(\"BM\").last()\n",
    "\n",
    "df_bond3 = df_bond3[\"Close\"]\n",
    "#df_bond3 = df_bond3.resample(\"WOM-4TUE\")._upsample(None).interpolate()\n",
    "df_bond3 = df_bond3.resample(\"W-FRI\")._upsample(None).interpolate()\n",
    "#df_bond3 = df_bond3.resample(\"BM\").last()\n",
    "\n",
    "df_kodex = df_kodex.dropna()\n",
    "df_bond10 = df_bond10.dropna()\n",
    "df_bond3 = df_bond3.dropna()\n",
    "\n",
    "KODEX = df_kodex/df_kodex[0]  #re-scale\n",
    "BOND10 = df_bond10/df_bond10[0]  #re-scale\n",
    "BOND3 = df_bond3/df_bond3[0]  #re-scale"
   ]
  },
  {
   "cell_type": "code",
   "execution_count": 6,
   "metadata": {},
   "outputs": [],
   "source": [
    "# 수익률\n",
    "kodex_momentum_return = fl.TomorrowDailyReturn(KODEX)  # 모멘텀 수익률은 내일 청산/금일 진입\n",
    "bond10_momentum_return = fl.TomorrowDailyReturn(BOND10)  # 모멘텀 수익률은 내일 청산/금일 진입\n",
    "bond3_momentum_return = fl.TomorrowDailyReturn(BOND3)  # 모멘텀 수익률은 내일 청산/금일 진입"
   ]
  },
  {
   "cell_type": "code",
   "execution_count": null,
   "metadata": {},
   "outputs": [],
   "source": [
    "# KODEX 평균모멘텀 스코어, 기간설정\n",
    "kodex_average_score = pd.Series(fl.AverageMomentum(KODEX,24), index=KODEX.index, name=\"KODEX\")\n",
    "# BOND 평균모멘텀 스코어, 기간설정\n",
    "bond10_average_score = pd.Series(fl.AverageMomentum(BOND10,24), index=BOND10.index, name=\"BOND10\")\n",
    "\n",
    "tri_ratio = pd.concat([kodex_average_score,bond10_average_score],axis=1).dropna()\n",
    "# 투자 비중 = KODEX / ( KODEX 12개월 평균 모멘텀 + BOND10 12개월 평균 모멘텀 + 1(3개월 펀드=현금))\n",
    "# 현금에 해당하는 3년국채는 \"1\" 비율만큼 항상 투입된다\n",
    "kodex_ratio = tri_ratio[\"KODEX\"]/ (tri_ratio[\"KODEX\"] + tri_ratio[\"BOND10\"] + 1)\n",
    "bond10_ratio = tri_ratio[\"BOND10\"]/ (tri_ratio[\"KODEX\"] + tri_ratio[\"BOND10\"] + 1)\n",
    "cash_ratio = 1 - (kodex_ratio + bond10_ratio)\n",
    "\n",
    "모멘텀배분tri_entry = (kodex_momentum_return * kodex_ratio) + (bond10_momentum_return * bond10_ratio)\\\n",
    "            + (bond3_momentum_return * cash_ratio)\n",
    "모멘텀배분TRI = np.cumprod(모멘텀배분tri_entry)  # 누적 수익률\n",
    "# 동일비중 투자\n",
    "균등배분tri_entry = kodex_momentum_return * 0.3333 + bond10_momentum_return * 0.3333 + bond3_momentum_return * 0.3334\n",
    "균등배분TRI = np.cumprod(균등배분tri_entry)  # 누적 수익률"
   ]
  },
  {
   "cell_type": "code",
   "execution_count": null,
   "metadata": {},
   "outputs": [],
   "source": [
    "kodex = fl.Portfolio(KODEX,\"KODEX\")\n",
    "bond10 = fl.Portfolio(BOND10,\"BOND10\")\n",
    "cash = fl.Portfolio(BOND3,\"CASH\")\n",
    "tri = fl.Portfolio(모멘텀배분TRI,\"모멘텀배분TRI\")\n",
    "균등tri = fl.Portfolio(균등배분TRI,\"균등배분TRI\")\n",
    "\n",
    "result = pd.concat([kodex,bond10,cash,tri,균등tri],axis=1)\n",
    "pd.DataFrame(result).T"
   ]
  },
  {
   "cell_type": "markdown",
   "metadata": {},
   "source": [
    "### 그래프"
   ]
  },
  {
   "cell_type": "code",
   "execution_count": null,
   "metadata": {},
   "outputs": [],
   "source": [
    "import matplotlib.pyplot as plt\n",
    "#한글폰트사용하기\n",
    "from matplotlib import rc, font_manager\n",
    "import matplotlib\n",
    "rc(\"font\", family=\"NanumGothic\")\n",
    "matplotlib.rcParams['axes.unicode_minus'] = False\n",
    "%matplotlib inline\n",
    "\n",
    "fig = plt.figure(figsize=(14,8))\n",
    "ax1 = fig.add_subplot(2,1,1)\n",
    "ax2 = fig.add_subplot(2,1,2)\n",
    "\n",
    "ax1.set_title(\"Returns\")\n",
    "ax1.plot(KODEX,color=\"Black\",label=\"KODEX\");\n",
    "#ax1.plot(BOND10,label=\"BOND10\");\n",
    "#ax1.plot(BOND3,label=\"CASH\");\n",
    "ax1.plot(모멘텀배분TRI,color=\"Red\",label=\"모멘텀배분TRI\");\n",
    "ax1.plot(균등배분TRI,color=\"Blue\",label=\"균등배분TRI\");\n",
    "ax1.grid()\n",
    "ax1.legend(loc=2)\n",
    "\n",
    "ax2.set_title(\"Ratio\")\n",
    "ax2.plot(kodex_ratio,color=\"Black\", label=\"KODEX\")\n",
    "ax2.plot(bond10_ratio, label=\"BOND10\")\n",
    "ax2.plot(cash_ratio, label=\"CASH\")\n",
    "ax2.grid()\n",
    "ax2.legend(loc=2)\n",
    "\n",
    "# 차트끼리 충돌을 방지합니다.\n",
    "plt.tight_layout()\n",
    "plt.show()"
   ]
  },
  {
   "cell_type": "code",
   "execution_count": null,
   "metadata": {},
   "outputs": [],
   "source": []
  }
 ],
 "metadata": {
  "kernelspec": {
   "display_name": "Python 3",
   "language": "python",
   "name": "python3"
  },
  "language_info": {
   "codemirror_mode": {
    "name": "ipython",
    "version": 3
   },
   "file_extension": ".py",
   "mimetype": "text/x-python",
   "name": "python",
   "nbconvert_exporter": "python",
   "pygments_lexer": "ipython3",
   "version": "3.6.4"
  }
 },
 "nbformat": 4,
 "nbformat_minor": 2
}
