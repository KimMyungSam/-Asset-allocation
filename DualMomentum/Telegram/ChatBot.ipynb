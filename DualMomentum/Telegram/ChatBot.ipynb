{
 "cells": [
  {
   "cell_type": "code",
   "execution_count": null,
   "metadata": {},
   "outputs": [],
   "source": [
    "import sys\n",
    "import ChatBotModel\n",
    "\n",
    "# 봇 기능 만들기\n",
    "def proc_PORT(bot, update):\n",
    "    DUAL.sendMessage(text=\"PortFolio\")\n",
    "\n",
    "def unknown(update, context):\n",
    "    context.bot.send_message(chat_id=update.message.chat_id, text=\"Sorry, I didn't understand that command.\")\n",
    "\n",
    "# 텔레그램 봇 생성하기\n",
    "DUAL = ChatBotModel.BotDual()\n",
    "DUAL.add_handler('port', proc_PORT)\n",
    "DUAL.start()\n",
    "\n",
    "# BUS.sendPhoto(open('img.jpg', 'rb'))\n",
    "\n",
    "#텔레그램봇 메세지 보내기\n",
    "#try:\n",
    "#    DUAL.sendMessage(\"자동매매를 시작합니다.\")\n",
    "#except Exception as ex:\n",
    "#    print (\"텔레그램 오류가 발생했습니다.\", ex)\n",
    "#    pass  # telegram 처음 첫 시작시 timeout error가 발생하는 경우있어, 발생시 무시고하고 진행함.\n"
   ]
  },
  {
   "cell_type": "code",
   "execution_count": null,
   "metadata": {},
   "outputs": [],
   "source": [
    "'''\n",
    "from tabulate import tabulate\n",
    "\n",
    "message = tabulate({\n",
    "}, headers=['current', 'max'], tablefmt='simple')\n",
    "message = \"<pre>{}</pre>\".format(message)\n",
    "\n",
    "DUAL.sendMessage(message) \n",
    "'''"
   ]
  },
  {
   "cell_type": "code",
   "execution_count": null,
   "metadata": {},
   "outputs": [],
   "source": []
  },
  {
   "cell_type": "code",
   "execution_count": null,
   "metadata": {},
   "outputs": [],
   "source": []
  }
 ],
 "metadata": {
  "kernelspec": {
   "display_name": "Python 3",
   "language": "python",
   "name": "python3"
  },
  "language_info": {
   "codemirror_mode": {
    "name": "ipython",
    "version": 3
   },
   "file_extension": ".py",
   "mimetype": "text/x-python",
   "name": "python",
   "nbconvert_exporter": "python",
   "pygments_lexer": "ipython3",
   "version": "3.6.4"
  }
 },
 "nbformat": 4,
 "nbformat_minor": 2
}
